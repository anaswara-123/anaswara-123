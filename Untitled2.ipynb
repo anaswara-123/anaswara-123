{
 "cells": [
  {
   "cell_type": "code",
   "execution_count": null,
   "id": "1e4b7cab",
   "metadata": {},
   "outputs": [],
   "source": []
  },
  {
   "cell_type": "code",
   "execution_count": 3,
   "id": "eed78af7",
   "metadata": {},
   "outputs": [
    {
     "name": "stdout",
     "output_type": "stream",
     "text": [
      "Enter size of list 3\n",
      "Enter element 1: 1\n",
      "Enter element 2: 2\n",
      "Enter element 3: 3\n",
      "Range determination not possible\n"
     ]
    }
   ],
   "source": [
    "def difference(arr):\n",
    "  if (len(arr) <=  3 ):\n",
    "    return -1\n",
    "  maxi = max(arr)\n",
    "  mini = min(arr)\n",
    "  return (int(maxi) - int(mini))\n",
    "list_size = int(input(\"Enter size of list \"))\n",
    "arr = []\n",
    "for i in range(list_size):\n",
    "  element = input(f\"Enter element {i+1}: \")\n",
    "  arr.append(element)\n",
    "range1 = difference(arr)\n",
    "if range1 <= 0:\n",
    "  print(\"Range determination not possible\")\n",
    "else:\n",
    "  print(\"The range of list is \", range1)"
   ]
  },
  {
   "cell_type": "code",
   "execution_count": 4,
   "id": "07b022cc",
   "metadata": {},
   "outputs": [
    {
     "name": "stdout",
     "output_type": "stream",
     "text": [
      "[7, 10]\n",
      "[15, 22]\n"
     ]
    }
   ],
   "source": [
    "def matrix_multi(A, B):\n",
    "    n = len(A)\n",
    "    C = [[0] * n for _ in range(n)]\n",
    "    for i in range(n):\n",
    "        for j in range(n):\n",
    "            for k in range(n):\n",
    "                C[i][j] += A[i][k] * B[k][j]\n",
    "    return C\n",
    "def matrix_power(A, m):\n",
    "    n = len(A)\n",
    "    result = [[1 if i == j else 0 for j in range(n)] for i in range(n)]\n",
    "    base = A\n",
    "    while m > 0:\n",
    "        if m % 2 == 1:\n",
    "            result = matrix_multi(result, base)\n",
    "        base = matrix_multi(base, base)\n",
    "        m //= 2\n",
    "    return result\n",
    "A = [[1, 2],\n",
    "     [3, 4]]\n",
    "m = 2\n",
    "result = matrix_power(A, m)\n",
    "for row in result:\n",
    "    print(row)"
   ]
  },
  {
   "cell_type": "code",
   "execution_count": 5,
   "id": "8d91b730",
   "metadata": {},
   "outputs": [
    {
     "name": "stdout",
     "output_type": "stream",
     "text": [
      "Enter a string: tiger\n",
      "The character with the maximum occurrence  is ['t', 'i', 'g', 'e', 'r'] having occurence count is 1 times.\n"
     ]
    }
   ],
   "source": [
    "def highest_occurrence_char(s):\n",
    "    char_count = {}\n",
    "    for char in s:\n",
    "        if char != ' ':\n",
    "            char_count[char] = char_count.get(char, 0) + 1\n",
    "    max_count = max(char_count.values())\n",
    "    max_char = [char for char, count in char_count.items() if count == max_count]\n",
    "    print(\"The character with the maximum occurrence  is\", max_char, \"having occurence count is\", max_count, \"times.\")\n",
    "s = input(\"Enter a string: \")\n",
    "highest_occurrence_char(s)"
   ]
  },
  {
   "cell_type": "code",
   "execution_count": null,
   "id": "47d49816",
   "metadata": {},
   "outputs": [],
   "source": []
  }
 ],
 "metadata": {
  "kernelspec": {
   "display_name": "Python 3 (ipykernel)",
   "language": "python",
   "name": "python3"
  },
  "language_info": {
   "codemirror_mode": {
    "name": "ipython",
    "version": 3
   },
   "file_extension": ".py",
   "mimetype": "text/x-python",
   "name": "python",
   "nbconvert_exporter": "python",
   "pygments_lexer": "ipython3",
   "version": "3.11.4"
  }
 },
 "nbformat": 4,
 "nbformat_minor": 5
}
